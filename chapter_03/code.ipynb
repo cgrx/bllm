{
 "cells": [
  {
   "metadata": {},
   "cell_type": "markdown",
   "source": "# Coding Attention Mechanisms\n",
   "id": "e5bf37d2f1b5f7c5"
  }
 ],
 "metadata": {
  "kernelspec": {
   "display_name": "Python 3",
   "language": "python",
   "name": "python3"
  },
  "language_info": {
   "codemirror_mode": {
    "name": "ipython",
    "version": 2
   },
   "file_extension": ".py",
   "mimetype": "text/x-python",
   "name": "python",
   "nbconvert_exporter": "python",
   "pygments_lexer": "ipython2",
   "version": "2.7.6"
  }
 },
 "nbformat": 4,
 "nbformat_minor": 5
}
